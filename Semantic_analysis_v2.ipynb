{
 "cells": [
  {
   "cell_type": "code",
   "execution_count": 4,
   "metadata": {},
   "outputs": [],
   "source": [
    "import sys\n",
    "try:\n",
    "    sys.path.insert(0, \"/usr/lib/python3.7/site-packages\")\n",
    "except FileNotFoundError:\n",
    "    pass\n",
    "\n",
    "import pandas as pd\n",
    "import numpy as nm\n",
    "import sys\n",
    "\n",
    "import ufal.udpipe as ud\n",
    "from ufal.udpipe import Model, Pipeline, ProcessingError\n",
    "import pyconll, pyconll.util\n",
    "from ufal.udpipe import Model, Pipeline\n",
    "import os\n",
    "import re\n",
    "import wget"
   ]
  },
  {
   "cell_type": "code",
   "execution_count": 5,
   "metadata": {},
   "outputs": [],
   "source": [
    "subj  = {\"nsubj\", \"nsubj:pass\"}\n",
    "obj   = {\"iobj\", \"obj\"}\n",
    "names = {\"PRON\", \"PROPN\"}"
   ]
  },
  {
   "cell_type": "markdown",
   "metadata": {},
   "source": [
    "## Process with UDPIPE"
   ]
  },
  {
   "cell_type": "code",
   "execution_count": 6,
   "metadata": {},
   "outputs": [],
   "source": [
    "def process(text):\n",
    "    processed = []\n",
    "    text = text.split(\"\\n\")[3:]\n",
    "    for word in text[1:]:\n",
    "        word = word.split(\"\\t\")\n",
    "        if(len(word) == 10):\n",
    "            processed += [word[:4] + word[6:8]]\n",
    "    return processed\n",
    "\n",
    "\n",
    "def tag_ud(text, modelfile='udpipe_syntagrus.model'):\n",
    "    udpipe_model_url = 'https://rusvectores.org/static/models/udpipe_syntagrus.model'\n",
    "    udpipe_filename = udpipe_model_url.split('/')[-1]\n",
    "\n",
    "    if not os.path.isfile(modelfile):\n",
    "        print('UDPipe model not found. Downloading...', file=sys.stderr)\n",
    "        wget.download(udpipe_model_url)\n",
    "\n",
    "    model = Model.load(modelfile)\n",
    "    process_pipeline = Pipeline(model, 'tokenize', Pipeline.DEFAULT, Pipeline.DEFAULT, 'conllu')\n",
    "    \n",
    "    items = []\n",
    "    for line in text:\n",
    "        output = process_pipeline.process(line)\n",
    "        items += [process(output)]\n",
    "    return items"
   ]
  },
  {
   "cell_type": "markdown",
   "metadata": {},
   "source": [
    "## Change for PersonX"
   ]
  },
  {
   "cell_type": "code",
   "execution_count": 7,
   "metadata": {},
   "outputs": [],
   "source": [
    "def place_persons(item):\n",
    "    subj_parent = -1\n",
    "    for word in item:\n",
    "        if((word[5] in subj) and (word[3] in names)):\n",
    "            word[1] = \"ЧеловекX\"\n",
    "            word[2] = \"ЧеловекX\"\n",
    "            subject_parent = word[4]\n",
    "    if(subj_parent != -1):\n",
    "        for word in item:\n",
    "            if((word[5] in obj) and (word[3] in names) and word[4] == subj_parent):\n",
    "                word[1] = \"ЧеловекY\"\n",
    "                word[2] = \"ЧеловекY\""
   ]
  },
  {
   "cell_type": "code",
   "execution_count": 9,
   "metadata": {},
   "outputs": [
    {
     "name": "stdout",
     "output_type": "stream",
     "text": [
      "[['1', 'ЧеловекX', 'ЧеловекX', 'PROPN', '2', 'nsubj'], ['2', 'увидел', 'видеть', 'VERB', '0', 'root'], ['3', 'Маргариту', 'Маргарита', 'PROPN', '2', 'obj'], ['4', 'с', 'с', 'ADP', '6', 'case'], ['5', 'жёлтыми', 'желтый', 'ADJ', '6', 'amod'], ['6', 'тюльпанами', 'тюльпан', 'NOUN', '2', 'obl'], ['7', '.', '.', 'PUNCT', '6', 'punct'], ['1', 'ЧеловекX', 'ЧеловекX', 'PRON', '5', 'nsubj'], ['2', 'с', 'с', 'ADP', '3', 'case'], ['3', 'замиранием', 'замирание', 'NOUN', '5', 'obl'], ['4', 'сердца', 'сердце', 'NOUN', '3', 'nmod'], ['5', 'заметил', 'замечать', 'VERB', '0', 'root'], ['6', 'её', 'она', 'PRON', '5', 'obj'], ['7', 'в', 'в', 'ADP', '8', 'case'], ['8', 'толпе', 'толпа', 'NOUN', '5', 'obl'], ['9', '.', '.', 'PUNCT', '8', 'punct'], ['1', 'Доброго', 'добрый', 'ADV', '3', 'advmod'], ['2', 'Диму', 'Дима', 'PROPN', '3', 'iobj'], ['3', 'использует', 'использовать', 'VERB', '0', 'root'], ['4', 'злой', 'злой', 'ADJ', '5', 'amod'], ['5', 'ЧеловекX', 'ЧеловекX', 'PROPN', '3', 'nsubj']]\n"
     ]
    }
   ],
   "source": [
    "udpipe_url = \"https://rusvectores.org/static/models/udpipe_syntagrus.model\"\n",
    "modelfile = \"udpipe_syntagrus.model\"\n",
    "#textfile = wget.download(text_url)\n",
    "\n",
    "text = [\"Мастер увидел Маргариту с жёлтыми тюльпанами. Он с замиранием сердца заметил её в толпе. Доброго Диму использует злой Петя\"]\n",
    "\n",
    "source = tag_ud(text=text, modelfile=modelfile)\n",
    "s1 = source[0]\n",
    "place_persons(s1)\n",
    "print(s1)"
   ]
  },
  {
   "cell_type": "code",
   "execution_count": null,
   "metadata": {},
   "outputs": [],
   "source": []
  }
 ],
 "metadata": {
  "kernelspec": {
   "display_name": "Python 3",
   "language": "python",
   "name": "python3"
  },
  "language_info": {
   "codemirror_mode": {
    "name": "ipython",
    "version": 3
   },
   "file_extension": ".py",
   "mimetype": "text/x-python",
   "name": "python",
   "nbconvert_exporter": "python",
   "pygments_lexer": "ipython3",
   "version": "3.7.4"
  }
 },
 "nbformat": 4,
 "nbformat_minor": 2
}
