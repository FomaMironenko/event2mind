{
 "cells": [
  {
   "cell_type": "code",
   "execution_count": 24,
   "metadata": {},
   "outputs": [],
   "source": [
    "import numpy as np\n",
    "import matplotlib.pyplot as plt\n",
    "import pandas as pd\n",
    "import torch\n",
    "from allennlp.predictors.predictor import Predictor\n",
    "\n",
    "%matplotlib inline"
   ]
  },
  {
   "cell_type": "code",
   "execution_count": 25,
   "metadata": {},
   "outputs": [
    {
     "name": "stderr",
     "output_type": "stream",
     "text": [
      "WARNING:allennlp.common.params:_jsonnet not loaded, treating /tmp/tmpvtaj10ln/config.json as json\n",
      "WARNING:allennlp.data.tokenizers.tokenizer:Converting old WordTokenizer params - <allennlp.common.params.Params object at 0x7f5eef23cb70> \n",
      "to new params <allennlp.common.params.Params object at 0x7f5ef40776a0>.\n"
     ]
    },
    {
     "data": {
      "text/plain": [
       "{'xintent_top_k_predictions': [[4, 3, 3, 3, 3],\n",
       "  [203, 3, 3, 3, 3],\n",
       "  [102, 3, 3, 3, 3],\n",
       "  [1, 3, 3, 3, 3],\n",
       "  [10, 15, 76, 3, 3],\n",
       "  [72, 172, 3, 3, 3],\n",
       "  [36, 3, 3, 3, 3],\n",
       "  [72, 533, 3, 3, 3],\n",
       "  [36, 7, 3, 3, 3],\n",
       "  [23, 10, 15, 59, 3]],\n",
       " 'xintent_top_k_log_probabilities': [-2.5056018829345703,\n",
       "  -2.571981191635132,\n",
       "  -3.124662399291992,\n",
       "  -4.045458793640137,\n",
       "  -4.563675403594971,\n",
       "  -4.568005561828613,\n",
       "  -4.7198591232299805,\n",
       "  -4.789474964141846,\n",
       "  -5.389863014221191,\n",
       "  -6.757959842681885],\n",
       " 'xreact_top_k_predictions': [[12, 3],\n",
       "  [15, 3],\n",
       "  [80, 3],\n",
       "  [29, 3],\n",
       "  [16, 3],\n",
       "  [35, 3],\n",
       "  [74, 3],\n",
       "  [122, 3],\n",
       "  [269, 3],\n",
       "  [203, 3]],\n",
       " 'xreact_top_k_log_probabilities': [-1.272518277168274,\n",
       "  -3.1250345706939697,\n",
       "  -3.1264171600341797,\n",
       "  -3.1651437282562256,\n",
       "  -3.41619873046875,\n",
       "  -3.604417324066162,\n",
       "  -4.172930717468262,\n",
       "  -4.226436614990234,\n",
       "  -4.231473445892334,\n",
       "  -4.238411903381348],\n",
       " 'oreact_top_k_predictions': [[12, 3, 3],\n",
       "  [80, 3, 3],\n",
       "  [4, 3, 3],\n",
       "  [29, 3, 3],\n",
       "  [37, 3, 3],\n",
       "  [241, 3, 3],\n",
       "  [194, 12, 3],\n",
       "  [62, 3, 3],\n",
       "  [112, 3, 3],\n",
       "  [16, 3, 3]],\n",
       " 'oreact_top_k_log_probabilities': [-1.696419596672058,\n",
       "  -2.5385286808013916,\n",
       "  -2.65162992477417,\n",
       "  -2.8185198307037354,\n",
       "  -2.8760604858398438,\n",
       "  -3.487276077270508,\n",
       "  -3.7077431678771973,\n",
       "  -3.845834493637085,\n",
       "  -3.921104907989502,\n",
       "  -4.026649475097656],\n",
       " 'xintent_top_k_predicted_tokens': [['none'],\n",
       "  ['kind'],\n",
       "  ['nice'],\n",
       "  ['@@UNKNOWN@@'],\n",
       "  ['a', 'good', 'friend'],\n",
       "  ['show', 'love'],\n",
       "  ['help'],\n",
       "  ['show', 'affection'],\n",
       "  ['help', 'persony'],\n",
       "  ['have', 'a', 'good', 'time']],\n",
       " 'xreact_top_k_predicted_tokens': [['happy'],\n",
       "  ['good'],\n",
       "  ['loved'],\n",
       "  ['excited'],\n",
       "  ['satisfied'],\n",
       "  ['helpful'],\n",
       "  ['nervous'],\n",
       "  ['friendly'],\n",
       "  ['loving'],\n",
       "  ['kind']],\n",
       " 'oreact_top_k_predicted_tokens': [['happy'],\n",
       "  ['loved'],\n",
       "  ['none'],\n",
       "  ['excited'],\n",
       "  ['grateful'],\n",
       "  ['wanted'],\n",
       "  ['also', 'happy'],\n",
       "  ['thankful'],\n",
       "  ['surprised'],\n",
       "  ['satisfied']]}"
      ]
     },
     "execution_count": 25,
     "metadata": {},
     "output_type": "execute_result"
    }
   ],
   "source": [
    "predictor = Predictor.from_path(\"https://s3-us-west-2.amazonaws.com/allennlp/models/event2mind-2018.10.26.tar.gz\")\n",
    "\n",
    "predictor.predict(source=\"PersonX give a present to PersonY\")"
   ]
  }
 ],
 "metadata": {
  "kernelspec": {
   "display_name": "Python 3",
   "language": "python",
   "name": "python3"
  },
  "language_info": {
   "codemirror_mode": {
    "name": "ipython",
    "version": 3
   },
   "file_extension": ".py",
   "mimetype": "text/x-python",
   "name": "python",
   "nbconvert_exporter": "python",
   "pygments_lexer": "ipython3",
   "version": "3.7.3"
  }
 },
 "nbformat": 4,
 "nbformat_minor": 2
}
