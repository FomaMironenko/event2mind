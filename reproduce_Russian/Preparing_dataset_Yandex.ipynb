{
 "cells": [
  {
   "cell_type": "code",
   "execution_count": null,
   "metadata": {},
   "outputs": [],
   "source": [
    "# trnsl.1.1.20191111T143250Z.0b93f423ea6fd88d.318f442d3d8cae900cb4404cef26667699fd5768"
   ]
  },
  {
   "cell_type": "code",
   "execution_count": null,
   "metadata": {},
   "outputs": [],
   "source": [
    "import sys\n",
    "try:\n",
    "    sys.path.insert(0, \"/usr/lib/python3.7/site-packages\")\n",
    "except FileNotFoundError:\n",
    "    pass\n",
    "\n",
    "import requests\n",
    "import pandas as pd\n",
    "import numpy as nm"
   ]
  },
  {
   "cell_type": "markdown",
   "metadata": {},
   "source": [
    "### to see process info"
   ]
  },
  {
   "cell_type": "code",
   "execution_count": null,
   "metadata": {},
   "outputs": [],
   "source": [
    "class nice_out:\n",
    "    def __init__(self, L):\n",
    "        self.L = L\n",
    "        self.counter = 0\n",
    "        self.per = 0\n",
    "    def update(self):\n",
    "        if(self.per == (self.counter*1000)//self.L):\n",
    "            print(\"\\r\" + str(self.per/10) + \"%\" + \" \" + \"#\"*(self.per//20) + \"_\"*(50 - self.per//20), end = \"\")\n",
    "            self.per += 1\n",
    "        self.counter += 1\n",
    "    def clear(self):\n",
    "        print(\"\\r\" + \" \"*100, end = \"\\r\")"
   ]
  },
  {
   "cell_type": "markdown",
   "metadata": {},
   "source": [
    "## Functions"
   ]
  },
  {
   "cell_type": "code",
   "execution_count": null,
   "metadata": {},
   "outputs": [],
   "source": [
    "# request.text = {\"code\":200,\"lang\":\"en-ru\",\"text\":[\"OUTPUT\"]}\n",
    "def parse_request(request):\n",
    "    text = request.text\n",
    "    text = text[text.find(\"text\") + 8: len(text) - 3].replace('\\\\', '')\n",
    "    return text\n",
    "\n",
    "def translate(text, key):\n",
    "    URL = 'https://translate.yandex.net/api/v1.5/tr.json/translate?'\n",
    "    translator = {'key': key, 'text': text, 'lang': \"en-ru\"}\n",
    "    return parse_request(requests.post(URL, translator))\n",
    "    \n",
    "def str2list(x):\n",
    "    return [y.strip() for y in x[2:-2].replace('\"','').replace(\"'\",'').split(',')]\n",
    "def list2set(x):\n",
    "    return set(x)"
   ]
  },
  {
   "cell_type": "markdown",
   "metadata": {},
   "source": [
    "# Yandex translator"
   ]
  },
  {
   "cell_type": "code",
   "execution_count": null,
   "metadata": {},
   "outputs": [],
   "source": [
    "#key - your key for Yandex translator\n",
    "def translate_data(key, path_to_source, path_to_result=\"Rus_Yandex_TEST.csv\"):\n",
    "    df = pd.read_csv(path_to_source)[['Event','Xintent','Xemotion','Otheremotion']]\n",
    "    cnt = nice_out(df.shape[0])\n",
    "    for i in range(0, df.shape[0]):\n",
    "        cnt.update()\n",
    "        to_translate = (df.iloc[i][\"Event\"].replace(\".\", \"\") + \". \" + \n",
    "                        df.iloc[i][\"Xintent\"].replace(\".\", \"\") + \". \" + \n",
    "                        df.iloc[i][\"Xemotion\"].replace(\".\", \"\") + \". \" + \n",
    "                        df.iloc[i][\"Otheremotion\"].replace(\".\", \"\"))\n",
    "        translated = translate(to_translate, key)\n",
    "        eve, xin, xre, oth = translated.split(\".\")\n",
    "        \n",
    "        df.iloc[i][\"Event\"]        = eve\n",
    "        df.iloc[i][\"Xintent\"]      = xin.replace('\\\\', '').replace('.', '').strip()\n",
    "        df.iloc[i][\"Xemotion\"]     = xre.replace('\\\\', '').replace('.', '').strip()\n",
    "        df.iloc[i][\"Otheremotion\"] = oth.replace('\\\\', '').replace('.', '').strip()\n",
    "    cnt.clear()\n",
    "    df.to_csv(path_to_result, encoding=\"utf-8\")\n",
    "    \n",
    "    print(df.head())"
   ]
  },
  {
   "cell_type": "code",
   "execution_count": null,
   "metadata": {},
   "outputs": [],
   "source": [
    "URL = 'https://translate.yandex.net/api/v1.5/tr.json/translate?'\n",
    "key = 'trnsl.1.1.20191109T120949Z.0b64f5bbabf5efcd.806496e582cf38c63bef5b7590f3fdf6ea939e2a'\n",
    "lang = 'en-ru'\n",
    "\n",
    "text1 = \"The dog has a bone\"\n",
    "text2 = \"This text has no misprints\"\n",
    "text3 = \"I love C++\"\n",
    "text4 = '[\"excited\", \"eager\", \"interested\"]'\n",
    "print(translate(text1, key))\n",
    "print(translate(text2, key))\n",
    "print(translate(text3, key))\n",
    "print(translate(text4, key))"
   ]
  },
  {
   "cell_type": "markdown",
   "metadata": {},
   "source": [
    "## Russian Dataset"
   ]
  },
  {
   "cell_type": "markdown",
   "metadata": {},
   "source": [
    "#### params:\n",
    "#### path_to_source - way (and the name) to english file on your computer\n",
    "#### path_to_result - way (and the name) to file where russian database will be saved"
   ]
  },
  {
   "cell_type": "code",
   "execution_count": null,
   "metadata": {},
   "outputs": [],
   "source": [
    "translate_data(key, '/home/fomius2000/Documents/Python_proj/NLP/event2mind/test.csv')"
   ]
  }
 ],
 "metadata": {
  "kernelspec": {
   "display_name": "Python 3",
   "language": "python",
   "name": "python3"
  },
  "language_info": {
   "codemirror_mode": {
    "name": "ipython",
    "version": 3
   },
   "file_extension": ".py",
   "mimetype": "text/x-python",
   "name": "python",
   "nbconvert_exporter": "python",
   "pygments_lexer": "ipython3",
   "version": "3.7.4"
  }
 },
 "nbformat": 4,
 "nbformat_minor": 2
}
