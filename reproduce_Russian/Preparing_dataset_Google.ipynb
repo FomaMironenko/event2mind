{
 "cells": [
  {
   "cell_type": "code",
   "execution_count": null,
   "metadata": {},
   "outputs": [],
   "source": [
    "import sys\n",
    "try:\n",
    "    sys.path.insert(0, \"/usr/lib/python3.7/site-packages\")\n",
    "except FileNotFoundError:\n",
    "    pass\n",
    "from googletrans import Translator\n",
    "import pandas as pd\n",
    "import numpy as nm"
   ]
  },
  {
   "cell_type": "code",
   "execution_count": null,
   "metadata": {},
   "outputs": [],
   "source": [
    "def translate_me(text, dest=\"ru\"):\n",
    "        translator = Translator(\n",
    "            service_urls=[\"translate.google.com\", \"translate.google.co.kr\"]\n",
    "        )\n",
    "        translated_text = \"none\"\n",
    "        if text != \"none\":\n",
    "            translated_text = translator.translate([text], dest=dest)[0]\n",
    "        return translated_text.text"
   ]
  },
  {
   "cell_type": "markdown",
   "metadata": {},
   "source": [
    "### See the process info"
   ]
  },
  {
   "cell_type": "code",
   "execution_count": null,
   "metadata": {},
   "outputs": [],
   "source": [
    "class nice_out:\n",
    "    def __init__(self, L):\n",
    "        self.L = L\n",
    "        self.counter = 0\n",
    "        self.per = 0\n",
    "    def update(self):\n",
    "        if(self.per == (self.counter*1000)//self.L):\n",
    "            print(\"\\r\" + str(self.per/10) + \"%\" + \" \" + \"#\"*(self.per//20) + \"_\"*(50 - self.per//20), end = \"\")\n",
    "            self.per += 1\n",
    "        self.counter += 1\n",
    "    def clear(self):\n",
    "        print(\"\\r\" + \" \"*100, end = \"\\r\")"
   ]
  },
  {
   "cell_type": "code",
   "execution_count": null,
   "metadata": {},
   "outputs": [],
   "source": [
    "print(translate_me(\"The dog has a bone\"))"
   ]
  },
  {
   "cell_type": "markdown",
   "metadata": {},
   "source": [
    "# Google translator"
   ]
  },
  {
   "cell_type": "code",
   "execution_count": null,
   "metadata": {},
   "outputs": [],
   "source": [
    "def translate_data(path_to_source, path_to_result=\"Rus_Google_DEV.csv\"):\n",
    "    df = pd.read_csv(path_to_source)[['Event','Xintent','Xemotion','Otheremotion']]\n",
    "    cnt = nice_out(df.shape[0])\n",
    "    for i in range(0, df.shape[0]):\n",
    "        cnt.update()\n",
    "        to_translate = (df.iloc[i][\"Event\"].replace(\".\", \"\") + \". \" + \n",
    "                        df.iloc[i][\"Xintent\"].replace(\".\", \"\") + \". \" + \n",
    "                        df.iloc[i][\"Xemotion\"].replace(\".\", \"\") + \". \" + \n",
    "                        df.iloc[i][\"Otheremotion\"].replace(\".\", \"\"))\n",
    "        translated = translate_me(to_translate).replace(\"\\\\\", \"\")\n",
    "        eve, xin, xre, oth = translated.split(\".\")\n",
    "        \n",
    "        df.iloc[i][\"Event\"]        = eve\n",
    "        df.iloc[i][\"Xintent\"]      = xin\n",
    "        df.iloc[i][\"Xemotion\"]     = xre\n",
    "        df.iloc[i][\"Otheremotion\"] = oth\n",
    "    cnt.clear()\n",
    "    df.to_csv(path_to_result, encoding=\"utf-8\")\n",
    "    \n",
    "    print(df.head())"
   ]
  },
  {
   "cell_type": "markdown",
   "metadata": {},
   "source": [
    "### params:\n",
    "### path_to_source - way (and the name) to english file on your computer\n",
    "### path_to_result - way (and the name) to file where russian database will be saved"
   ]
  },
  {
   "cell_type": "code",
   "execution_count": null,
   "metadata": {},
   "outputs": [],
   "source": [
    "translate_data('/home/fomius2000/Documents/Python_proj/NLP/event2mind/dev.csv')"
   ]
  }
 ],
 "metadata": {
  "kernelspec": {
   "display_name": "Python 3",
   "language": "python",
   "name": "python3"
  },
  "language_info": {
   "codemirror_mode": {
    "name": "ipython",
    "version": 3
   },
   "file_extension": ".py",
   "mimetype": "text/x-python",
   "name": "python",
   "nbconvert_exporter": "python",
   "pygments_lexer": "ipython3",
   "version": "3.7.4"
  }
 },
 "nbformat": 4,
 "nbformat_minor": 2
}
