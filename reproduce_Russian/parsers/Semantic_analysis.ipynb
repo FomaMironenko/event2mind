{
 "cells": [
  {
   "cell_type": "code",
   "execution_count": 2,
   "metadata": {},
   "outputs": [],
   "source": [
    "import sys\n",
    "try:\n",
    "    sys.path.insert(0, \"/usr/lib/python3.7/site-packages\")\n",
    "except FileNotFoundError:\n",
    "    pass\n",
    "\n",
    "import pandas as pd\n",
    "import numpy as nm\n",
    "import sys\n",
    "\n",
    "import ufal.udpipe as ud\n",
    "from ufal.udpipe import Model, Pipeline, ProcessingError\n",
    "import pyconll, pyconll.util\n",
    "from ufal.udpipe import Model, Pipeline\n",
    "import os\n",
    "import re\n",
    "import wget"
   ]
  },
  {
   "cell_type": "code",
   "execution_count": 3,
   "metadata": {},
   "outputs": [],
   "source": [
    "subj  = {\"nsubj\", \"nsubj:pass\"}\n",
    "obj   = {\"iobj\", \"obj\"}\n",
    "names = {\"PRON\", \"PROPN\", \"NOUN\"}"
   ]
  },
  {
   "cell_type": "code",
   "execution_count": 4,
   "metadata": {},
   "outputs": [],
   "source": [
    "class nice_out:\n",
    "    def __init__(self, L):\n",
    "        self.L = L\n",
    "        self.counter = 0\n",
    "        self.per = 0\n",
    "    def update(self):\n",
    "        if(self.per == (self.counter*1000)//self.L):\n",
    "            print(\"\\r\" + str(self.per/10) + \"%\" + \" \" + \"#\"*(self.per//20) + \"_\"*(50 - self.per//20), end = \"\")\n",
    "            self.per += 1\n",
    "        self.counter += 1\n",
    "    def clear(self):\n",
    "        print(\"\\r\" + \" \"*100, end = \"\\r\")"
   ]
  },
  {
   "cell_type": "markdown",
   "metadata": {},
   "source": [
    "## Process with UDPIPE"
   ]
  },
  {
   "cell_type": "code",
   "execution_count": 5,
   "metadata": {},
   "outputs": [],
   "source": [
    "def process(text):\n",
    "    processed = []\n",
    "    text = text.split(\"\\n\")[1:]\n",
    "    for word in text[1:]:\n",
    "        word = word.split(\"\\t\")\n",
    "        if(len(word) == 10):\n",
    "            processed += [word[:4] + word[6:8]]\n",
    "    return processed\n",
    "\n",
    "\n",
    "def tag_ud(text, modelfile='udpipe_syntagrus.model'):\n",
    "    udpipe_model_url = 'https://rusvectores.org/static/models/udpipe_syntagrus.model'\n",
    "    udpipe_filename = udpipe_model_url.split('/')[-1]\n",
    "    if(type(text) == str):\n",
    "        text = [text]\n",
    "        \n",
    "    if not os.path.isfile(modelfile):\n",
    "        print('UDPipe model not found. Downloading...', file=sys.stderr)\n",
    "        wget.download(udpipe_model_url)\n",
    "    \n",
    "    model = Model.load(modelfile)\n",
    "    process_pipeline = Pipeline(model, 'tokenize', Pipeline.DEFAULT, Pipeline.DEFAULT, 'conllu')\n",
    "    \n",
    "    items = []\n",
    "    chk = nice_out(len(text))\n",
    "    for line in text:\n",
    "        chk.update()\n",
    "        output = process_pipeline.process(line)\n",
    "        output = output.split(\"# sent_id = \")\n",
    "        for sentence in output[1:]:\n",
    "            items += [process(sentence)]\n",
    "    chk.clear()\n",
    "    return items"
   ]
  },
  {
   "cell_type": "markdown",
   "metadata": {},
   "source": [
    "## Change for PersonX"
   ]
  },
  {
   "cell_type": "code",
   "execution_count": 7,
   "metadata": {},
   "outputs": [],
   "source": [
    "#def clear(item):\n",
    "def get_root(item):\n",
    "    for word in item:\n",
    "        if(word[4] == '0'):\n",
    "            return word[2]\n",
    "    return \"Нет\"\n",
    "\n",
    "def place_persons(item):\n",
    "    subj_parent = \"-1\"\n",
    "    subject = \"\"\n",
    "    for word in item:\n",
    "        if((word[5] in subj) and (word[3] in names)):\n",
    "            if(subj_parent == \"-1\"):\n",
    "                subject = word[2]\n",
    "                word[1] = \"ЧеловекX\"\n",
    "                word[2] = \"ЧеловекX\"\n",
    "                subj_parent = word[4]\n",
    "            else:\n",
    "                if(word[2] == subject):\n",
    "                    word[1] = \"ЧеловекX\"\n",
    "                    word[2] = \"ЧеловекX\"\n",
    "\n",
    "    if(subj_parent != \"-1\"):\n",
    "        for word in item:\n",
    "            if((word[5] in obj) and (word[3] in names) and word[4] == subj_parent):\n",
    "                word[1] = \"ЧеловекY\"\n",
    "                word[2] = \"ЧеловекY\"\n",
    "\n",
    "def sout(item):\n",
    "    out = \"\"\n",
    "    for word in item:\n",
    "        if(word[5] != \"punct\" and word[0] != 1):\n",
    "            out += \" \"\n",
    "        if(word[1] != None):\n",
    "            out += word[1]\n",
    "    return out"
   ]
  },
  {
   "cell_type": "code",
   "execution_count": 9,
   "metadata": {},
   "outputs": [
    {
     "name": "stdout",
     "output_type": "stream",
     "text": [
      "\r",
      "0.0% __________________________________________________\r",
      "                                                                                                    \r",
      "0)  Яндекс оставил Гугл далеко позади. ->  ЧеловекX оставил Гугл далеко позади.\n",
      "\n",
      "1)  Вася поднял мяч, кторый он когда-то оставил на чердаке ->  ЧеловекX поднял ЧеловекY, кторый он когда-то оставил на чердаке\n",
      "\n",
      "2)  Мастер увидел Маргариту с жёлтыми тюльпанами. ->  ЧеловекX увидел ЧеловекY с жёлтыми тюльпанами.\n",
      "\n",
      "3)  Доброго Диму эксплуатирует злой Петя ->  Доброго ЧеловекY эксплуатирует злой ЧеловекX\n",
      "\n",
      "4)  Скалозуб хвастается своими служебными успехами. ->  ЧеловекX хвастается своими служебными успехами.\n",
      "\n",
      "5)  Репетилов верит слуху. ->  ЧеловекX верит ЧеловекY.\n",
      "\n",
      "6)  Андрей рос в селе. ->  ЧеловекX рос в селе.\n",
      "\n",
      "7)  мальчишки гостю подчиняются. ->  ЧеловекX ЧеловекY подчиняются.\n",
      "\n",
      "8)  Она взяла его на руки оказались. ->  ЧеловекX взяла ЧеловекY на руки оказались.\n",
      "\n",
      "9)  Росс вспоминает о Кэрол. ->  ЧеловекX вспоминает о Кэрол.\n",
      "\n",
      "10)  Джо благодаря своему новому агенту получает роль в новом фильме. ->  ЧеловекX благодаря своему новому агенту получает ЧеловекY в новом фильме.\n",
      "\n",
      "11)  Джоуи флиртуют с работницей. ->  ЧеловекX флиртуют с работницей.\n",
      "\n"
     ]
    }
   ],
   "source": [
    "udpipe_url = \"https://rusvectores.org/static/models/udpipe_syntagrus.model\"\n",
    "modelfile = \"udpipe_syntagrus.model\"\n",
    "#textfile = wget.download(text_url)\n",
    "\n",
    "text = [\"Яндекс оставил Гугл далеко позади. Вася поднял мяч, кторый он когда-то оставил на чердаке\",\n",
    "       \"Мастер увидел Маргариту с жёлтыми тюльпанами. Доброго Диму эксплуатирует злой Петя\",\n",
    "       \"Скалозуб хвастается своими служебными успехами. Репетилов верит слуху. Андрей рос в селе. мальчишки гостю подчиняются.\",\n",
    "       \"Она взяла его на руки оказались.\",\n",
    "       \"Росс вспоминает о Кэрол. Джо благодаря своему новому агенту получает роль в новом фильме. Джоуи флиртуют с работницей.\"]\n",
    "\n",
    "source = tag_ud(text=text, modelfile=modelfile)\n",
    "for i in range(len(source)):\n",
    "    print(str(i) + \") \", end = \"\")\n",
    "    print(sout(source[i]), end = \"\"); print(\" -> \", end = \"\")\n",
    "    place_persons(source[i])\n",
    "    print(sout(source[i]), end = \"\"); print(\"\\n\")"
   ]
  },
  {
   "cell_type": "markdown",
   "metadata": {},
   "source": [
    "## check sentence"
   ]
  },
  {
   "cell_type": "code",
   "execution_count": 10,
   "metadata": {},
   "outputs": [
    {
     "name": "stdout",
     "output_type": "stream",
     "text": [
      "['1', 'Остап', 'Остап', 'NOUN', '3', 'nsubj']\n",
      "['2', 'медленно', 'медленно', 'ADV', '3', 'advmod']\n",
      "['3', 'опустил', 'опускать', 'VERB', '0', 'root']\n",
      "['4', 'свою', 'свой', 'DET', '5', 'det']\n",
      "['5', 'руку', 'рука', 'NOUN', '3', 'obj']\n",
      "['6', 'в', 'в', 'ADP', '9', 'case']\n",
      "['7', 'изрядно', 'изрядно', 'ADV', '8', 'obl']\n",
      "['8', 'повреждённый', 'повредить', 'ADJ', '9', 'amod']\n",
      "['9', 'стул', 'стул', 'NOUN', '3', 'obl']\n"
     ]
    }
   ],
   "source": [
    "text1 = \"Остап медленно опустил свою руку в изрядно повреждённый стул\"\n",
    "modelfile='udpipe_syntagrus.model'\n",
    "model = Model.load(modelfile)\n",
    "process_pipeline = Pipeline(model, 'tokenize', Pipeline.DEFAULT, Pipeline.DEFAULT, 'conllu')\n",
    "output = process_pipeline.process(text1)\n",
    "tmp = process(output)\n",
    "#place_persons(tmp)\n",
    "#print(sout(tmp))\n",
    "for word in tmp:\n",
    "    print(word)"
   ]
  },
  {
   "cell_type": "code",
   "execution_count": 7,
   "metadata": {},
   "outputs": [],
   "source": [
    "# /home/fomius2000/Downloads/S+V+INDOBJ.plain.txt"
   ]
  },
  {
   "cell_type": "code",
   "execution_count": 11,
   "metadata": {},
   "outputs": [
    {
     "name": "stdout",
     "output_type": "stream",
     "text": [
      "                                                                                                    \r"
     ]
    }
   ],
   "source": [
    "text = \"\"\n",
    "with open (\"/home/fomius2000/Downloads/S+V+INDOBJ.plain.txt\", encoding=\"utf-8\") as f:\n",
    "    text = str(f.read())\n",
    "    text = text.split(\"\\n\")\n",
    "    text = tag_ud(text, modelfile=modelfile)\n",
    "    #checker = pd.DataFrame(checker)\n",
    "    #checker.head()\n",
    "    f.close()"
   ]
  },
  {
   "cell_type": "code",
   "execution_count": 17,
   "metadata": {},
   "outputs": [
    {
     "name": "stdout",
     "output_type": "stream",
     "text": [
      "352085\n",
      "99.9% #################################################_['Встревоженный ЧеловекX пошел навстречу мэру.', 'пойти']\n",
      "['Бывший ЧеловекX превратился в настоятеля.', 'превращаться']\n",
      "['Старый ЧеловекX прохаживался возле дома.', 'прохаживаться']\n",
      "['Лопоухий ЧеловекX по-прежнему был в прострации.', 'прострация']\n",
      "['Высокий ЧеловекX вернулся с граблями;', 'вернуться']\n",
      "['Сморщенный ЧеловекX сидел за столиком.', 'сидеть']\n",
      "['Обессилевший ЧеловекX уснул на полу.', 'уснуть']\n",
      "['Старый Абрахам безмятежно спал за столиком администратора.', 'спать']\n",
      "['ЧеловекX абсолютно не разбираюсь в музыке.', 'разбираться']\n",
      "['ЧеловекX абсолютно забыла о своем обещании.', 'забывать']\n"
     ]
    }
   ],
   "source": [
    "print(len(text))\n",
    "chk = nice_out(len(text))\n",
    "personolized = []\n",
    "for i in range(len(text)):\n",
    "    chk.update()\n",
    "    root = get_root(text[i])\n",
    "    place_persons(text[i])\n",
    "    personolized += [[sout(text[i]).strip(), root]]\n",
    "for i in range(10):\n",
    "    print(personolized[i])\n"
   ]
  },
  {
   "cell_type": "code",
   "execution_count": 26,
   "metadata": {},
   "outputs": [
    {
     "name": "stdout",
     "output_type": "stream",
     "text": [
      "(352085, 2)\n",
      "(341043, 3)\n"
     ]
    },
    {
     "data": {
      "text/html": [
       "<div>\n",
       "<style scoped>\n",
       "    .dataframe tbody tr th:only-of-type {\n",
       "        vertical-align: middle;\n",
       "    }\n",
       "\n",
       "    .dataframe tbody tr th {\n",
       "        vertical-align: top;\n",
       "    }\n",
       "\n",
       "    .dataframe thead th {\n",
       "        text-align: right;\n",
       "    }\n",
       "</style>\n",
       "<table border=\"1\" class=\"dataframe\">\n",
       "  <thead>\n",
       "    <tr style=\"text-align: right;\">\n",
       "      <th></th>\n",
       "      <th>sentence</th>\n",
       "      <th>root</th>\n",
       "      <th>polarity</th>\n",
       "    </tr>\n",
       "  </thead>\n",
       "  <tbody>\n",
       "    <tr>\n",
       "      <th>0</th>\n",
       "      <td>Встревоженный ЧеловекX пошел навстречу мэру.</td>\n",
       "      <td>пойти</td>\n",
       "      <td>0</td>\n",
       "    </tr>\n",
       "    <tr>\n",
       "      <th>1</th>\n",
       "      <td>Бывший ЧеловекX превратился в настоятеля.</td>\n",
       "      <td>превращаться</td>\n",
       "      <td>0</td>\n",
       "    </tr>\n",
       "    <tr>\n",
       "      <th>2</th>\n",
       "      <td>Старый ЧеловекX прохаживался возле дома.</td>\n",
       "      <td>прохаживаться</td>\n",
       "      <td>0</td>\n",
       "    </tr>\n",
       "    <tr>\n",
       "      <th>3</th>\n",
       "      <td>Лопоухий ЧеловекX по-прежнему был в прострации.</td>\n",
       "      <td>прострация</td>\n",
       "      <td>0</td>\n",
       "    </tr>\n",
       "    <tr>\n",
       "      <th>4</th>\n",
       "      <td>Высокий ЧеловекX вернулся с граблями;</td>\n",
       "      <td>вернуться</td>\n",
       "      <td>0</td>\n",
       "    </tr>\n",
       "  </tbody>\n",
       "</table>\n",
       "</div>"
      ],
      "text/plain": [
       "                                          sentence           root polarity\n",
       "0     Встревоженный ЧеловекX пошел навстречу мэру.          пойти        0\n",
       "1        Бывший ЧеловекX превратился в настоятеля.   превращаться        0\n",
       "2         Старый ЧеловекX прохаживался возле дома.  прохаживаться        0\n",
       "3  Лопоухий ЧеловекX по-прежнему был в прострации.     прострация        0\n",
       "4            Высокий ЧеловекX вернулся с граблями;      вернуться        0"
      ]
     },
     "execution_count": 26,
     "metadata": {},
     "output_type": "execute_result"
    }
   ],
   "source": [
    "df = pd.DataFrame(columns=[\"sentence\", \"root\"])\n",
    "df[\"sentence\"] = [x[0] for x in personolized]\n",
    "df[\"root\"]     = [x[1] for x in personolized]\n",
    "print(df.shape)\n",
    "\n",
    "df = df.drop(df[df[\"sentence\"].map(len) <= 3].index)\n",
    "print(df.shape)\n",
    "df.head()"
   ]
  },
  {
   "cell_type": "code",
   "execution_count": null,
   "metadata": {},
   "outputs": [],
   "source": []
  },
  {
   "cell_type": "code",
   "execution_count": 24,
   "metadata": {},
   "outputs": [],
   "source": [
    "df.to_csv(\"Dataset_persX.csv\", index=False)"
   ]
  }
 ],
 "metadata": {
  "kernelspec": {
   "display_name": "Python 3",
   "language": "python",
   "name": "python3"
  },
  "language_info": {
   "codemirror_mode": {
    "name": "ipython",
    "version": 3
   },
   "file_extension": ".py",
   "mimetype": "text/x-python",
   "name": "python",
   "nbconvert_exporter": "python",
   "pygments_lexer": "ipython3",
   "version": "3.7.4"
  }
 },
 "nbformat": 4,
 "nbformat_minor": 2
}
