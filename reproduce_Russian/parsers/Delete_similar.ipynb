{
 "cells": [
  {
   "cell_type": "code",
   "execution_count": 3,
   "metadata": {},
   "outputs": [],
   "source": [
    "import sys\n",
    "try:\n",
    "    sys.path.insert(0, \"/usr/lib/python3.7/site-packages\")\n",
    "except FileNotFoundError:\n",
    "    pass\n",
    "\n",
    "import pandas as pd\n",
    "import numpy as nm\n",
    "from difflib import SequenceMatcher\n"
   ]
  },
  {
   "cell_type": "code",
   "execution_count": 4,
   "metadata": {},
   "outputs": [
    {
     "data": {
      "text/plain": [
       "0.78125"
      ]
     },
     "execution_count": 4,
     "metadata": {},
     "output_type": "execute_result"
    }
   ],
   "source": [
    "SequenceMatcher(None, \"ЧеловекX улыбнулась в полутьме.\", \"ЧеловекX улыбнулась сквозь слезы.\").ratio()"
   ]
  },
  {
   "cell_type": "code",
   "execution_count": 78,
   "metadata": {},
   "outputs": [],
   "source": [
    "def sift(block):\n",
    "    chosen = []\n",
    "    k = 1\n",
    "    for it, row in block.iterrows():\n",
    "        add = True\n",
    "        for sentence in chosen:\n",
    "            if(SequenceMatcher(None, row[\"sentence\"], sentence).ratio() > k):\n",
    "                add = False\n",
    "                break\n",
    "        if(add):\n",
    "            k *= 0.9\n",
    "            chosen += [row[\"sentence\"]]\n",
    "        else:\n",
    "            block = block.drop(it)\n",
    "    return block"
   ]
  },
  {
   "cell_type": "code",
   "execution_count": 83,
   "metadata": {},
   "outputs": [
    {
     "name": "stdout",
     "output_type": "stream",
     "text": [
      "6564\n",
      "1287\n"
     ]
    }
   ],
   "source": [
    "df = pd.read_csv(\"Not_neutral.csv\")\n",
    "print(df.shape[0])\n",
    "df = df.groupby([\"root\", \"polarity\"]).apply(sift)\n",
    "print(df.shape[0])"
   ]
  },
  {
   "cell_type": "code",
   "execution_count": 87,
   "metadata": {},
   "outputs": [
    {
     "name": "stdout",
     "output_type": "stream",
     "text": [
      "(1287, 3)\n"
     ]
    },
    {
     "data": {
      "text/html": [
       "<div>\n",
       "<style scoped>\n",
       "    .dataframe tbody tr th:only-of-type {\n",
       "        vertical-align: middle;\n",
       "    }\n",
       "\n",
       "    .dataframe tbody tr th {\n",
       "        vertical-align: top;\n",
       "    }\n",
       "\n",
       "    .dataframe thead th {\n",
       "        text-align: right;\n",
       "    }\n",
       "</style>\n",
       "<table border=\"1\" class=\"dataframe\">\n",
       "  <thead>\n",
       "    <tr style=\"text-align: right;\">\n",
       "      <th></th>\n",
       "      <th>sentence</th>\n",
       "      <th>root</th>\n",
       "      <th>polarity</th>\n",
       "    </tr>\n",
       "  </thead>\n",
       "  <tbody>\n",
       "    <tr>\n",
       "      <th>0</th>\n",
       "      <td>Пуаро оживленно беседовал с дородной хозяйкой.</td>\n",
       "      <td>беседовать</td>\n",
       "      <td>negative</td>\n",
       "    </tr>\n",
       "    <tr>\n",
       "      <th>1</th>\n",
       "      <td>ЧеловекX беседовали о счастье.</td>\n",
       "      <td>беседовать</td>\n",
       "      <td>positive</td>\n",
       "    </tr>\n",
       "    <tr>\n",
       "      <th>2</th>\n",
       "      <td>ЧеловекX мирно беседовали с благостными лицами.</td>\n",
       "      <td>беседовать</td>\n",
       "      <td>positive</td>\n",
       "    </tr>\n",
       "    <tr>\n",
       "      <th>3</th>\n",
       "      <td>ЧеловекX отлично побеседовали с Элинор.</td>\n",
       "      <td>беседовать</td>\n",
       "      <td>positive</td>\n",
       "    </tr>\n",
       "    <tr>\n",
       "      <th>4</th>\n",
       "      <td>ЧеловекX просто беседовал с очаровательной леди.</td>\n",
       "      <td>беседовать</td>\n",
       "      <td>positive</td>\n",
       "    </tr>\n",
       "    <tr>\n",
       "      <th>5</th>\n",
       "      <td>ЧеловекX беспокоишься за этих преступников.</td>\n",
       "      <td>беспокоиться</td>\n",
       "      <td>negative</td>\n",
       "    </tr>\n",
       "    <tr>\n",
       "      <th>6</th>\n",
       "      <td>ЧеловекX беспокоюсь за свою Маринку.</td>\n",
       "      <td>беспокоиться</td>\n",
       "      <td>negative</td>\n",
       "    </tr>\n",
       "    <tr>\n",
       "      <th>7</th>\n",
       "      <td>ЧеловекX беспокоюсь о своей стране.</td>\n",
       "      <td>беспокоиться</td>\n",
       "      <td>negative</td>\n",
       "    </tr>\n",
       "    <tr>\n",
       "      <th>8</th>\n",
       "      <td>ЧеловекX все же беспокоюсь за твое здоровье.</td>\n",
       "      <td>беспокоиться</td>\n",
       "      <td>negative</td>\n",
       "    </tr>\n",
       "    <tr>\n",
       "      <th>9</th>\n",
       "      <td>ЧеловекX всего лишь беспокоюсь о бедных животных.</td>\n",
       "      <td>беспокоиться</td>\n",
       "      <td>negative</td>\n",
       "    </tr>\n",
       "    <tr>\n",
       "      <th>10</th>\n",
       "      <td>ЧеловекX беспокоилась за стерильность.</td>\n",
       "      <td>беспокоиться</td>\n",
       "      <td>positive</td>\n",
       "    </tr>\n",
       "    <tr>\n",
       "      <th>11</th>\n",
       "      <td>ЧеловекX беспокоилась насчет времени.</td>\n",
       "      <td>беспокоиться</td>\n",
       "      <td>positive</td>\n",
       "    </tr>\n",
       "    <tr>\n",
       "      <th>12</th>\n",
       "      <td>ЧеловекX беспокоился за индустрию.</td>\n",
       "      <td>беспокоиться</td>\n",
       "      <td>positive</td>\n",
       "    </tr>\n",
       "    <tr>\n",
       "      <th>13</th>\n",
       "      <td>ЧеловекX беспокоился о своем престиже.</td>\n",
       "      <td>беспокоиться</td>\n",
       "      <td>positive</td>\n",
       "    </tr>\n",
       "    <tr>\n",
       "      <th>14</th>\n",
       "      <td>ЧеловекX действительно беспокоилась о взбалмош...</td>\n",
       "      <td>беспокоиться</td>\n",
       "      <td>positive</td>\n",
       "    </tr>\n",
       "    <tr>\n",
       "      <th>15</th>\n",
       "      <td>ЧеловекX беспокоилась за сову.</td>\n",
       "      <td>беспокоиться</td>\n",
       "      <td>skip</td>\n",
       "    </tr>\n",
       "    <tr>\n",
       "      <th>16</th>\n",
       "      <td>ЧеловекX беспокоилась о сестре.</td>\n",
       "      <td>беспокоиться</td>\n",
       "      <td>skip</td>\n",
       "    </tr>\n",
       "    <tr>\n",
       "      <th>17</th>\n",
       "      <td>ЧеловекX беспокоился за дедушку.</td>\n",
       "      <td>беспокоиться</td>\n",
       "      <td>skip</td>\n",
       "    </tr>\n",
       "    <tr>\n",
       "      <th>18</th>\n",
       "      <td>ЧеловекX беспокоюсь за твою безопасность.</td>\n",
       "      <td>беспокоиться</td>\n",
       "      <td>skip</td>\n",
       "    </tr>\n",
       "    <tr>\n",
       "      <th>19</th>\n",
       "      <td>ЧеловекX бешено боролись с потоком.</td>\n",
       "      <td>бороться</td>\n",
       "      <td>negative</td>\n",
       "    </tr>\n",
       "  </tbody>\n",
       "</table>\n",
       "</div>"
      ],
      "text/plain": [
       "                                             sentence          root  polarity\n",
       "0      Пуаро оживленно беседовал с дородной хозяйкой.    беседовать  negative\n",
       "1                      ЧеловекX беседовали о счастье.    беседовать  positive\n",
       "2     ЧеловекX мирно беседовали с благостными лицами.    беседовать  positive\n",
       "3             ЧеловекX отлично побеседовали с Элинор.    беседовать  positive\n",
       "4    ЧеловекX просто беседовал с очаровательной леди.    беседовать  positive\n",
       "5         ЧеловекX беспокоишься за этих преступников.  беспокоиться  negative\n",
       "6                ЧеловекX беспокоюсь за свою Маринку.  беспокоиться  negative\n",
       "7                 ЧеловекX беспокоюсь о своей стране.  беспокоиться  negative\n",
       "8        ЧеловекX все же беспокоюсь за твое здоровье.  беспокоиться  negative\n",
       "9   ЧеловекX всего лишь беспокоюсь о бедных животных.  беспокоиться  negative\n",
       "10             ЧеловекX беспокоилась за стерильность.  беспокоиться  positive\n",
       "11              ЧеловекX беспокоилась насчет времени.  беспокоиться  positive\n",
       "12                 ЧеловекX беспокоился за индустрию.  беспокоиться  positive\n",
       "13             ЧеловекX беспокоился о своем престиже.  беспокоиться  positive\n",
       "14  ЧеловекX действительно беспокоилась о взбалмош...  беспокоиться  positive\n",
       "15                     ЧеловекX беспокоилась за сову.  беспокоиться      skip\n",
       "16                    ЧеловекX беспокоилась о сестре.  беспокоиться      skip\n",
       "17                   ЧеловекX беспокоился за дедушку.  беспокоиться      skip\n",
       "18          ЧеловекX беспокоюсь за твою безопасность.  беспокоиться      skip\n",
       "19                ЧеловекX бешено боролись с потоком.      бороться  negative"
      ]
     },
     "execution_count": 87,
     "metadata": {},
     "output_type": "execute_result"
    }
   ],
   "source": [
    "del df[\"Unnamed: 0\"]\n",
    "print(df.shape)\n",
    "df.reset_index(drop=True, inplace=True)\n",
    "df.head(20)"
   ]
  },
  {
   "cell_type": "code",
   "execution_count": 89,
   "metadata": {},
   "outputs": [],
   "source": [
    "df.to_csv(\"Ultimate_sentences.csv\")"
   ]
  },
  {
   "cell_type": "code",
   "execution_count": 91,
   "metadata": {},
   "outputs": [
    {
     "name": "stdout",
     "output_type": "stream",
     "text": [
      "Пуаро оживленно беседовал с дородной хозяйкой.\n",
      "ЧеловекX беседовали о счастье.\n",
      "ЧеловекX мирно беседовали с благостными лицами.\n",
      "ЧеловекX отлично побеседовали с Элинор.\n",
      "ЧеловекX просто беседовал с очаровательной леди.\n",
      "ЧеловекX беспокоишься за этих преступников.\n",
      "ЧеловекX беспокоюсь за свою Маринку.\n",
      "ЧеловекX беспокоюсь о своей стране.\n",
      "ЧеловекX все же беспокоюсь за твое здоровье.\n",
      "ЧеловекX всего лишь беспокоюсь о бедных животных.\n",
      "ЧеловекX беспокоилась за стерильность.\n",
      "ЧеловекX беспокоилась насчет времени.\n",
      "ЧеловекX беспокоился за индустрию.\n",
      "ЧеловекX беспокоился о своем престиже.\n",
      "ЧеловекX действительно беспокоилась о взбалмошной сестренке.\n",
      "ЧеловекX беспокоилась за сову.\n",
      "ЧеловекX беспокоилась о сестре.\n",
      "ЧеловекX беспокоился за дедушку.\n",
      "ЧеловекX беспокоюсь за твою безопасность.\n",
      "ЧеловекX бешено боролись с потоком.\n",
      "ЧеловекX боролась с ужасом.\n",
      "ЧеловекX боролся с большим соблазном.\n",
      "ЧеловекX еле боролся с нахлынувшим раздражением.\n",
      "ЧеловекX лихорадочно боролся с волнами.\n",
      "Валера отчаянно боролся с невиди\n"
     ]
    }
   ],
   "source": [
    "text = \"\"\n",
    "for it, row in df.iterrows():\n",
    "    text += row[\"sentence\"] + \"\\n\"\n",
    "print(text[:1000])"
   ]
  },
  {
   "cell_type": "code",
   "execution_count": 93,
   "metadata": {},
   "outputs": [],
   "source": [
    "with open (\"perfect_sent.txt\", \"w\") as f:\n",
    "    f.write(text)"
   ]
  },
  {
   "cell_type": "code",
   "execution_count": null,
   "metadata": {},
   "outputs": [],
   "source": []
  }
 ],
 "metadata": {
  "kernelspec": {
   "display_name": "Python 3",
   "language": "python",
   "name": "python3"
  },
  "language_info": {
   "codemirror_mode": {
    "name": "ipython",
    "version": 3
   },
   "file_extension": ".py",
   "mimetype": "text/x-python",
   "name": "python",
   "nbconvert_exporter": "python",
   "pygments_lexer": "ipython3",
   "version": "3.7.4"
  }
 },
 "nbformat": 4,
 "nbformat_minor": 2
}
