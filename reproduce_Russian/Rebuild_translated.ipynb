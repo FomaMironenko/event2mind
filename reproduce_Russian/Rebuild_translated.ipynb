{
 "cells": [
  {
   "cell_type": "code",
   "execution_count": 1,
   "metadata": {},
   "outputs": [],
   "source": [
    "import sys\n",
    "try:\n",
    "    sys.path.insert(0, \"/usr/lib/python3.7/site-packages\")\n",
    "except FileNotFoundError:\n",
    "    pass\n",
    "import pandas as pd\n",
    "import numpy as np"
   ]
  },
  {
   "cell_type": "markdown",
   "metadata": {},
   "source": [
    "# Необходимо чтобы начала файлов совпадали"
   ]
  },
  {
   "cell_type": "code",
   "execution_count": 21,
   "metadata": {},
   "outputs": [],
   "source": [
    "def add(path_eng_ds, path_rus_ds):\n",
    "    eng_ds = pd.read_csv(path_eng_ds)\n",
    "    rus_ds = pd.read_csv(path_rus_ds)\n",
    "    if(rus_ds.shape[1] >= 7):\n",
    "        return\n",
    "    L = rus_ds.shape[0]\n",
    "    del(rus_ds[\"Unnamed: 0\"])\n",
    "    rus_ds[\"Source\"] = eng_ds[\"Source\"][:L]\n",
    "    cols = rus_ds.columns.tolist()\n",
    "    cols = cols[-1:] + cols[:-1]\n",
    "    rus_ds = rus_ds[cols]\n",
    "    rus_ds[\"Xsent\"]  = eng_ds[\"Xsent\"][:L]\n",
    "    rus_ds[\"Osent\"]  = eng_ds[\"Osent\"][:L]\n",
    "    rus_ds.to_csv(path_rus_ds, encoding=\"utf-8\")\n",
    "    \n",
    "    print(eng_ds.head(6))\n",
    "    print(rus_ds.head(6))"
   ]
  },
  {
   "cell_type": "code",
   "execution_count": 25,
   "metadata": {},
   "outputs": [
    {
     "name": "stdout",
     "output_type": "stream",
     "text": [
      "      Source                   Event   Xintent  Xemotion        Otheremotion  \\\n",
      "0  it_events  It shrinks in the wash  [\"none\"]  [\"none\"]  [\"upset\", \"angry\"]   \n",
      "1  it_events  It shrinks in the wash  [\"none\"]  [\"none\"]  [\"upset\", \"angry\"]   \n",
      "2  it_events  It shrinks in the wash  [\"none\"]  [\"none\"]      [\"aggravated\"]   \n",
      "3  it_events        It finally found  [\"none\"]  [\"none\"]         [\"relaxed\"]   \n",
      "4  it_events        It finally found  [\"none\"]  [\"none\"]         [\"excited\"]   \n",
      "5  it_events        It finally found  [\"none\"]  [\"none\"]        [\"relieved\"]   \n",
      "\n",
      "   Xsent  Osent  \n",
      "0    NaN      1  \n",
      "1    NaN      1  \n",
      "2    NaN      1  \n",
      "3    NaN      5  \n",
      "4    NaN      5  \n",
      "5    NaN      5  \n",
      "      Source                   Event     Xintent    Xemotion  \\\n",
      "0  it_events  Она сжимается в стирке   [\"никто\"]   [\"никто\"]   \n",
      "1  it_events  Она сжимается в стирке   [\"никто\"]   [\"никто\"]   \n",
      "2  it_events  Она сжимается в стирке   [\"никто\"]   [\"никто\"]   \n",
      "3  it_events     Это, наконец, нашли   [\"никто\"]   [\"никто\"]   \n",
      "4  it_events     Это, наконец, нашли   [\"никто\"]   [\"никто\"]   \n",
      "5  it_events     Это, наконец, нашли   [\"никто\"]   [\"никто\"]   \n",
      "\n",
      "                   Otheremotion  Xsent  Osent  \n",
      "0   [ \"Расстроить\", \"сердитый\"]    NaN      1  \n",
      "1   [ \"Расстроить\", \"сердитый\"]    NaN      1  \n",
      "2             [ \"Усугубляются\"]    NaN      1  \n",
      "3              [ \"Расслабился\"]    NaN      5  \n",
      "4                [\"в восторге\"]    NaN      5  \n",
      "5               [ \"Облегчение\"]    NaN      5  \n"
     ]
    }
   ],
   "source": [
    "path_eng_ds = \"/home/fomius2000/Documents/Python_proj/NLP/event2mind/dev.csv\"\n",
    "path_rus_ds = \"Rus_Google_DEV.csv\"\n",
    "add(path_eng_ds, path_rus_ds)"
   ]
  },
  {
   "cell_type": "code",
   "execution_count": null,
   "metadata": {},
   "outputs": [],
   "source": []
  }
 ],
 "metadata": {
  "kernelspec": {
   "display_name": "Python 3",
   "language": "python",
   "name": "python3"
  },
  "language_info": {
   "codemirror_mode": {
    "name": "ipython",
    "version": 3
   },
   "file_extension": ".py",
   "mimetype": "text/x-python",
   "name": "python",
   "nbconvert_exporter": "python",
   "pygments_lexer": "ipython3",
   "version": "3.7.4"
  }
 },
 "nbformat": 4,
 "nbformat_minor": 2
}
