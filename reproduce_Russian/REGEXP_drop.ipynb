{
 "cells": [
  {
   "cell_type": "code",
   "execution_count": 2,
   "metadata": {},
   "outputs": [],
   "source": [
    "import sys\n",
    "try:\n",
    "    sys.path.insert(0, \"/usr/lib/python3.7/site-packages\")\n",
    "except FileNotFoundError:\n",
    "        pass\n",
    "\n",
    "import pandas as pd\n",
    "import numpy as np\n",
    "import regex\n",
    "import re"
   ]
  },
  {
   "cell_type": "markdown",
   "metadata": {},
   "source": [
    "## Reguar expression"
   ]
  },
  {
   "cell_type": "code",
   "execution_count": 77,
   "metadata": {},
   "outputs": [],
   "source": [
    "gex = re.compile(' *\\[ *(\"[^\"]+\", *)*\"[^\"]+\"\\]\\Z')"
   ]
  },
  {
   "cell_type": "code",
   "execution_count": 79,
   "metadata": {},
   "outputs": [
    {
     "name": "stdout",
     "output_type": "stream",
     "text": [
      "True\n",
      "False\n",
      "False\n",
      "False\n",
      "False\n",
      "False\n"
     ]
    }
   ],
   "source": [
    "print(bool(gex.match('[\"Счастливый\",  \"порадовал\"]')))\n",
    "print(bool(gex.match('[\"Счастливый\",  \"порадовал\"\"]')))\n",
    "print(bool(gex.match('[\"Счастливый\",  \"порадовал\"],')))\n",
    "print(bool(gex.match('[\"Счастливый\",  ,\"порадовал\"]')))\n",
    "print(bool(gex.match('[[\"Счастливый\",  \"порадовал\"]')))\n",
    "print(bool(gex.match('[\"Счастливый\",  \"порадовал\"')))"
   ]
  },
  {
   "cell_type": "code",
   "execution_count": 85,
   "metadata": {},
   "outputs": [
    {
     "name": "stdout",
     "output_type": "stream",
     "text": [
      "(46471, 7)\n",
      "(46471, 7)\n"
     ]
    }
   ],
   "source": [
    "path = \"data/Rus_Google_TRAIN.csv\"\n",
    "df = pd.read_csv(path)\n",
    "print(df.shape)\n",
    "i = 0\n",
    "L = df.shape[0]\n",
    "while(i < df.shape[0]):\n",
    "    try:\n",
    "        if(not bool(gex.match(df.loc[i][\"Xintent\"])) or\n",
    "           not bool(gex.match(df.loc[i][\"Xemotion\"])) or\n",
    "           not bool(gex.match(df.loc[i][\"Otheremotion\"]))):\n",
    "            print(\"Ooops: \", i)\n",
    "            df.drop(index = i)\n",
    "    except TypeError:\n",
    "        print(\"Type_Ooops: \", i)\n",
    "        df.drop(index = i)\n",
    "    except KeyError:\n",
    "        print(\"Key_Ooops: \", i)\n",
    "        df.drop(index = i)\n",
    "    i += 1\n",
    "print(df.shape)"
   ]
  },
  {
   "cell_type": "code",
   "execution_count": null,
   "metadata": {},
   "outputs": [],
   "source": []
  }
 ],
 "metadata": {
  "kernelspec": {
   "display_name": "Python 3",
   "language": "python",
   "name": "python3"
  },
  "language_info": {
   "codemirror_mode": {
    "name": "ipython",
    "version": 3
   },
   "file_extension": ".py",
   "mimetype": "text/x-python",
   "name": "python",
   "nbconvert_exporter": "python",
   "pygments_lexer": "ipython3",
   "version": "3.7.4"
  }
 },
 "nbformat": 4,
 "nbformat_minor": 2
}
