{
 "cells": [
  {
   "cell_type": "code",
   "execution_count": 1,
   "metadata": {},
   "outputs": [],
   "source": [
    "import sys\n",
    "try:\n",
    "    sys.path.insert(0, \"/usr/lib/python3.7/site-packages\")\n",
    "except FileNotFoundError:\n",
    "    pass\n",
    "import pandas as pd\n",
    "import numpy as np"
   ]
  },
  {
   "cell_type": "code",
   "execution_count": 17,
   "metadata": {},
   "outputs": [],
   "source": [
    "# « »\n",
    "def fix(path_to_file):\n",
    "    ds = pd.read_csv(path_to_file)\n",
    "    ds[\"Event\"] = ds[\"Event\"].apply(lambda x: x.replace(\"«\", '\"').replace(\"»\", '\"'))\n",
    "    ds[\"Xintent\"] = ds[\"Xintent\"].apply(lambda x: x.replace(\"«\", '\"').replace(\"»\", '\"'))\n",
    "    ds[\"Xemotion\"] = ds[\"Xemotion\"].apply(lambda x: x.replace(\"«\", '\"').replace(\"»\", '\"'))\n",
    "    ds[\"Otheremotion\"] = ds[\"Otheremotion\"].apply(lambda x: x.replace(\"«\", '\"').replace(\"»\", '\"'))\n",
    "    ds.to_csv(path_to_file)"
   ]
  },
  {
   "cell_type": "code",
   "execution_count": 19,
   "metadata": {},
   "outputs": [],
   "source": [
    "path_to_file = \"Rus_Google_DEV.csv\"\n",
    "fix(path_to_file)"
   ]
  },
  {
   "cell_type": "code",
   "execution_count": null,
   "metadata": {},
   "outputs": [],
   "source": []
  }
 ],
 "metadata": {
  "kernelspec": {
   "display_name": "Python 3",
   "language": "python",
   "name": "python3"
  },
  "language_info": {
   "codemirror_mode": {
    "name": "ipython",
    "version": 3
   },
   "file_extension": ".py",
   "mimetype": "text/x-python",
   "name": "python",
   "nbconvert_exporter": "python",
   "pygments_lexer": "ipython3",
   "version": "3.7.4"
  }
 },
 "nbformat": 4,
 "nbformat_minor": 2
}
