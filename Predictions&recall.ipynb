{
 "cells": [
  {
   "cell_type": "code",
   "execution_count": 73,
   "metadata": {},
   "outputs": [],
   "source": [
    "import sys\n",
    "try:\n",
    "    sys.path.insert(0, \"/usr/lib/python3.7/site-packages\")\n",
    "except FileNotFoundError:\n",
    "    pass\n",
    "import numpy as np\n",
    "import matplotlib.pyplot as plt\n",
    "import pandas as pd\n",
    "import torch\n",
    "import spacy\n",
    "from allennlp.predictors.predictor import Predictor\n",
    "\n",
    "%matplotlib inline"
   ]
  },
  {
   "cell_type": "code",
   "execution_count": 74,
   "metadata": {},
   "outputs": [],
   "source": [
    "predictor = Predictor.from_path(\"https://s3-us-west-2.amazonaws.com/allennlp/models/event2mind-2018.10.26.tar.gz\")"
   ]
  },
  {
   "cell_type": "markdown",
   "metadata": {},
   "source": [
    "# Count metrics"
   ]
  },
  {
   "cell_type": "code",
   "execution_count": 75,
   "metadata": {},
   "outputs": [],
   "source": [
    "def str2list(x):\n",
    "    return [y.strip() for y in x[2:-2].replace('\"','').replace(\"'\",'').split(',')]\n",
    "def list2set(x):\n",
    "    return set(x)"
   ]
  },
  {
   "cell_type": "code",
   "execution_count": 76,
   "metadata": {},
   "outputs": [],
   "source": [
    "test_df =pd.read_csv('event2mind/test.csv')[['Event','Xintent','Xemotion','Otheremotion']]"
   ]
  },
  {
   "cell_type": "markdown",
   "metadata": {},
   "source": [
    "### Uniqe Events"
   ]
  },
  {
   "cell_type": "code",
   "execution_count": 77,
   "metadata": {},
   "outputs": [],
   "source": [
    "def uniq_events (test_df):\n",
    "    test_df[\"Xintent\"] = test_df[\"Xintent\"].apply(str2list)\n",
    "    test_df[\"Xemotion\"] = test_df[\"Xemotion\"].apply(str2list)\n",
    "    test_df[\"Otheremotion\"] = test_df[\"Otheremotion\"].apply(str2list)\n",
    "    test_df = test_df.groupby([\"Event\"])[\"Xintent\", \"Xemotion\", \"Otheremotion\"].sum()\n",
    "    \n",
    "    test_df[\"Xintent\"] = test_df[\"Xintent\"].apply(list2set)\n",
    "    test_df[\"Xemotion\"] = test_df[\"Xemotion\"].apply(list2set)\n",
    "    test_df[\"Otheremotion\"] = test_df[\"Otheremotion\"].apply(list2set)\n",
    "    return test_df"
   ]
  },
  {
   "cell_type": "code",
   "execution_count": 78,
   "metadata": {},
   "outputs": [],
   "source": [
    "test_df = uniq_events(test_df)"
   ]
  },
  {
   "cell_type": "code",
   "execution_count": 79,
   "metadata": {},
   "outputs": [
    {
     "data": {
      "text/html": [
       "<div>\n",
       "<style scoped>\n",
       "    .dataframe tbody tr th:only-of-type {\n",
       "        vertical-align: middle;\n",
       "    }\n",
       "\n",
       "    .dataframe tbody tr th {\n",
       "        vertical-align: top;\n",
       "    }\n",
       "\n",
       "    .dataframe thead th {\n",
       "        text-align: right;\n",
       "    }\n",
       "</style>\n",
       "<table border=\"1\" class=\"dataframe\">\n",
       "  <thead>\n",
       "    <tr style=\"text-align: right;\">\n",
       "      <th></th>\n",
       "      <th>Xintent</th>\n",
       "      <th>Xemotion</th>\n",
       "      <th>Otheremotion</th>\n",
       "    </tr>\n",
       "    <tr>\n",
       "      <th>Event</th>\n",
       "      <th></th>\n",
       "      <th></th>\n",
       "      <th></th>\n",
       "    </tr>\n",
       "  </thead>\n",
       "  <tbody>\n",
       "    <tr>\n",
       "      <td>It always hated ___</td>\n",
       "      <td>{none}</td>\n",
       "      <td>{none}</td>\n",
       "      <td>{annoyed, displeasured, anger, frustration, fr...</td>\n",
       "    </tr>\n",
       "    <tr>\n",
       "      <td>It cries and cried</td>\n",
       "      <td>{none}</td>\n",
       "      <td>{none}</td>\n",
       "      <td>{sorrow, sad, depresed, grief, sadness}</td>\n",
       "    </tr>\n",
       "    <tr>\n",
       "      <td>It does n't last long</td>\n",
       "      <td>{none}</td>\n",
       "      <td>{none}</td>\n",
       "      <td>{sad}</td>\n",
       "    </tr>\n",
       "    <tr>\n",
       "      <td>It does not go well</td>\n",
       "      <td>{none}</td>\n",
       "      <td>{none}</td>\n",
       "      <td>{disappointing, disappointed, embarassment, an...</td>\n",
       "    </tr>\n",
       "    <tr>\n",
       "      <td>It falls open</td>\n",
       "      <td>{none}</td>\n",
       "      <td>{none}</td>\n",
       "      <td>{curious, judgemental, surprised, startled}</td>\n",
       "    </tr>\n",
       "  </tbody>\n",
       "</table>\n",
       "</div>"
      ],
      "text/plain": [
       "                      Xintent Xemotion  \\\n",
       "Event                                    \n",
       "It always hated ___    {none}   {none}   \n",
       "It cries and cried     {none}   {none}   \n",
       "It does n't last long  {none}   {none}   \n",
       "It does not go well    {none}   {none}   \n",
       "It falls open          {none}   {none}   \n",
       "\n",
       "                                                            Otheremotion  \n",
       "Event                                                                     \n",
       "It always hated ___    {annoyed, displeasured, anger, frustration, fr...  \n",
       "It cries and cried               {sorrow, sad, depresed, grief, sadness}  \n",
       "It does n't last long                                              {sad}  \n",
       "It does not go well    {disappointing, disappointed, embarassment, an...  \n",
       "It falls open                {curious, judgemental, surprised, startled}  "
      ]
     },
     "execution_count": 79,
     "metadata": {},
     "output_type": "execute_result"
    }
   ],
   "source": [
    "test_df.head()"
   ]
  },
  {
   "cell_type": "markdown",
   "metadata": {},
   "source": [
    "### recall@10"
   ]
  },
  {
   "cell_type": "code",
   "execution_count": 80,
   "metadata": {},
   "outputs": [],
   "source": [
    "def check_metrics (column_name, data_set, kill_none = False):\n",
    "    connected = {\"Xintent\": \"xintent\", \"Xemotion\": \"xreact\", \"Otheremotion\": \"oreact\"}\n",
    "    \n",
    "    average = 0\n",
    "    L = data_set.shape[0]\n",
    "    counter = 0; n = 0\n",
    "\n",
    "    \n",
    "    for index, row in data_set.iterrows():\n",
    "        if(n == (counter*100)//L):\n",
    "            print(\"\\rCalculating: \" + str(n) + \"%\", end = \"\")\n",
    "            n += 1\n",
    "            \n",
    "        result = predictor.predict(source=index)\n",
    "        model_out = [ (\" \".join(react), prob) for react, prob in zip(result[connected[column_name] + \"_top_k_predicted_tokens\"], result[connected[column_name] + \"_top_k_log_probabilities\"])]\n",
    "        test_set = row[column_name]\n",
    "        model_set = set()\n",
    "        for word in model_out[:10]:\n",
    "            model_set.add(word[0])\n",
    "        if(kill_none == True):\n",
    "            if(\"none\" in test_set):\n",
    "                test_set.remove(\"none\")\n",
    "            if(\"none\" in model_set):\n",
    "                model_set.remove(\"none\")\n",
    "        if(len(test_set) != 0):\n",
    "            average += len(test_set & model_set) / len(test_set)\n",
    "        counter += 1\n",
    "        \n",
    "    print(\"\\r\", end = \"\")\n",
    "    return average / L"
   ]
  },
  {
   "cell_type": "code",
   "execution_count": 82,
   "metadata": {},
   "outputs": [
    {
     "name": "stdout",
     "output_type": "stream",
     "text": [
      "Avedarge deflection of Xintent = 0.205\n",
      "Avedarge deflection of Xemotion = 0.363\n",
      "Avedarge deflection of Otheremotion = 0.684\n"
     ]
    }
   ],
   "source": [
    "metric = \"Xintent\"\n",
    "print(\"Avedarge deflection of \" + metric + \" = \" + str(float('{:.3f}'.format(check_metrics(metric, test_df)))))\n",
    "metric = \"Xemotion\"\n",
    "print(\"Avedarge deflection of \" + metric + \" = \" + str(float('{:.3f}'.format(check_metrics(metric, test_df)))))\n",
    "metric = \"Otheremotion\"\n",
    "print(\"Avedarge deflection of \" + metric + \" = \" + str(float('{:.3f}'.format(check_metrics(metric, test_df)))))"
   ]
  },
  {
   "cell_type": "code",
   "execution_count": null,
   "metadata": {},
   "outputs": [],
   "source": []
  }
 ],
 "metadata": {
  "kernelspec": {
   "display_name": "Python 3",
   "language": "python",
   "name": "python3"
  },
  "language_info": {
   "codemirror_mode": {
    "name": "ipython",
    "version": 3
   },
   "file_extension": ".py",
   "mimetype": "text/x-python",
   "name": "python",
   "nbconvert_exporter": "python",
   "pygments_lexer": "ipython3",
   "version": "3.7.4"
  }
 },
 "nbformat": 4,
 "nbformat_minor": 2
}
