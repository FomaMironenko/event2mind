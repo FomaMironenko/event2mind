{
 "cells": [
  {
   "cell_type": "code",
   "execution_count": 2,
   "metadata": {},
   "outputs": [],
   "source": [
    "import numpy as np\n",
    "import matplotlib.pyplot as plt\n",
    "import pandas as pd\n",
    "import torch\n",
    "from allennlp.predictors.predictor import Predictor\n",
    "\n",
    "%matplotlib inline"
   ]
  },
  {
   "cell_type": "code",
   "execution_count": 8,
   "metadata": {},
   "outputs": [],
   "source": [
    "predictor = Predictor.from_path(\"ser_dir_large_model/model.tar.gz\")"
   ]
  },
  {
   "cell_type": "code",
   "execution_count": 7,
   "metadata": {},
   "outputs": [
    {
     "name": "stdout",
     "output_type": "stream",
     "text": [
      "Intents:  [('fight', -1.391822338104248), ('win', -2.8994219303131104), ('aggressive', -3.136197090148926), ('hurt persony', -3.5504751205444336), ('mean', -3.7561678886413574)]\n",
      "Xreact:  [('none', -0.0005637123249471188), ('tired', -9.861845970153809), ('happy', -10.616759300231934), ('satisfied', -10.801338195800781), ('powerful', -10.821451187133789)]\n",
      "Oreact:  [('none', -0.002841506153345108), ('', -7.173025131225586), ('happy', -7.231773376464844), ('angry', -9.024476051330566), ('thankful', -9.28633975982666)]\n"
     ]
    }
   ],
   "source": [
    "result = predictor.predict(source=\"PersonX punches PersonY\")\n",
    "intents = [ (\" \".join(react), prob) for react, prob in zip(result[\"xintent_top_k_predicted_tokens\"], result[\"xintent_top_k_log_probabilities\"])]\n",
    "\n",
    "xreact = [ (\" \".join(react), prob) for react, prob in zip(result[\"xreact_top_k_predicted_tokens\"], result[\"xreact_top_k_log_probabilities\"])]\n",
    "\n",
    "oreact = [ (\" \".join(react), prob) for react, prob in zip(result[\"oreact_top_k_predicted_tokens\"], result[\"oreact_top_k_log_probabilities\"])]\n",
    "\n",
    "print(\"Intents: \", intents[:5])\n",
    "print(\"Xreact: \", xreact[:5])\n",
    "print(\"Oreact: \", oreact[:5])"
   ]
  },
  {
   "cell_type": "code",
   "execution_count": 10,
   "metadata": {},
   "outputs": [],
   "source": [
    "test_df =pd.read_csv('test.csv').head(4)[['Event','Xintent','Xemotion','Otheremotion']]\n",
    "def str2list(x):\n",
    "    return x[2:-2].split('\", \"')\n",
    "for col in ['Xintent','Xemotion','Otheremotion']:\n",
    "    test_df[col] = test_df[col].apply(str2list)"
   ]
  },
  {
   "cell_type": "code",
   "execution_count": 11,
   "metadata": {},
   "outputs": [
    {
     "data": {
      "text/plain": [
       "{'It starts to rainy': {'gloomy', 'sad, gloomy', 'upset', 'wet'}}"
      ]
     },
     "execution_count": 11,
     "metadata": {},
     "output_type": "execute_result"
    }
   ],
   "source": [
    "phrase = 'It starts to rainy'\n",
    "phrase2oemotion = {}\n",
    "res = []\n",
    "for x in test_df[test_df.Event == phrase].Otheremotion:\n",
    "    res = res + x\n",
    "res = set(res)\n",
    "phrase2oemotion[phrase] = res\n",
    "phrase2oemotion"
   ]
  }
 ],
 "metadata": {
  "kernelspec": {
   "display_name": "Python 3",
   "language": "python",
   "name": "python3"
  },
  "language_info": {
   "codemirror_mode": {
    "name": "ipython",
    "version": 3
   },
   "file_extension": ".py",
   "mimetype": "text/x-python",
   "name": "python",
   "nbconvert_exporter": "python",
   "pygments_lexer": "ipython3",
   "version": "3.7.3"
  }
 },
 "nbformat": 4,
 "nbformat_minor": 2
}
